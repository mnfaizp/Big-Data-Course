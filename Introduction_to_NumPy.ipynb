{
  "nbformat": 4,
  "nbformat_minor": 0,
  "metadata": {
    "colab": {
      "name": "Introduction to NumPy.ipynb",
      "provenance": [],
      "authorship_tag": "ABX9TyO5iNR99VuLB/rm1S0y7Hpx",
      "include_colab_link": true
    },
    "kernelspec": {
      "name": "python3",
      "display_name": "Python 3"
    },
    "language_info": {
      "name": "python"
    }
  },
  "cells": [
    {
      "cell_type": "markdown",
      "metadata": {
        "id": "view-in-github",
        "colab_type": "text"
      },
      "source": [
        "<a href=\"https://colab.research.google.com/github/mnfaizp/Big-Data-Course/blob/main/Introduction_to_NumPy.ipynb\" target=\"_parent\"><img src=\"https://colab.research.google.com/assets/colab-badge.svg\" alt=\"Open In Colab\"/></a>"
      ]
    },
    {
      "cell_type": "code",
      "metadata": {
        "id": "bqZ-KzBk_KQF"
      },
      "source": [
        "import numpy as np"
      ],
      "execution_count": null,
      "outputs": []
    },
    {
      "cell_type": "markdown",
      "metadata": {
        "id": "1HrSh6Ml-khu"
      },
      "source": [
        "#Understanding Data Type in Pythoh\n",
        "Penyimpanan data pada pemrograman sangatlah perlu dan diperhatikan. Python memberikan kemudahan dengan Dynamic Typeing dimana tidak perlu mmelakukan inisialisi variable dengan tipe data yang sudah diketahui"
      ]
    },
    {
      "cell_type": "code",
      "metadata": {
        "id": "s_lMT2di-b61"
      },
      "source": [
        "result = 0\n",
        "for i in range(100):\n",
        "  result += 1"
      ],
      "execution_count": null,
      "outputs": []
    },
    {
      "cell_type": "code",
      "metadata": {
        "colab": {
          "base_uri": "https://localhost:8080/",
          "height": 35
        },
        "id": "PURNq2Z4_6fU",
        "outputId": "b7159378-422e-4c0e-e581-6892bd0c736a"
      },
      "source": [
        "x = 4\n",
        "x = \"four\"\n",
        "x"
      ],
      "execution_count": null,
      "outputs": [
        {
          "output_type": "execute_result",
          "data": {
            "application/vnd.google.colaboratory.intrinsic+json": {
              "type": "string"
            },
            "text/plain": [
              "'four'"
            ]
          },
          "metadata": {
            "tags": []
          },
          "execution_count": 4
        }
      ]
    },
    {
      "cell_type": "markdown",
      "metadata": {
        "id": "NG7dL6MaAeij"
      },
      "source": [
        "##A Python Integer Is More Than Just an Integer\n",
        "Pada python sebuah variable integer bukan hanyalah integer semata, namun merupakan sebuah objek yang diarahkan ke struktur. Sebuah integer pada Python 3.4 terdiri dari ob_refcnt, ob_type, ob_size, dan ob_digit"
      ]
    },
    {
      "cell_type": "code",
      "metadata": {
        "colab": {
          "base_uri": "https://localhost:8080/",
          "height": 69
        },
        "id": "KTSH1njIBlfG",
        "outputId": "ed97187b-4d15-44ef-c3b1-a3e7baa55f3d"
      },
      "source": [
        "\"\"\"\n",
        "Struktur sebuah integer pada python yang \n",
        "dijelaskan menggunakan bahasa akarnya yakni C\n",
        "\n",
        "struct __longobject {\n",
        "    long ob_refcnt;         -> Akan membuat memori dan mengalikasikan object\n",
        "    PyTypeObject *pb_type;  -> melakukan encode type variable\n",
        "    size_t ob_size          -> mengambil ukuran\n",
        "    long ob_digit[1]        -> memuat integer yang sebenarnya\n",
        "}\n",
        "\n",
        "\"\"\""
      ],
      "execution_count": null,
      "outputs": [
        {
          "output_type": "execute_result",
          "data": {
            "application/vnd.google.colaboratory.intrinsic+json": {
              "type": "string"
            },
            "text/plain": [
              "'\\nStruktur sebuah integer pada python yang \\ndijelaskan menggunakan bahasa akarnya yakni C\\n\\nstruct __longobject {\\n    long ob_refcnt;         -> Akan membuat memori dan mengalikasikan object\\n    PyTypeObject *pb_type;  -> melakukan encode type variable\\n    size_t ob_size          -> mengambil ukuran\\n    long ob_digit[1]        -> memuat integer yang sebenarnya\\n}\\n\\n'"
            ]
          },
          "metadata": {
            "tags": []
          },
          "execution_count": 5
        }
      ]
    },
    {
      "cell_type": "markdown",
      "metadata": {
        "id": "QIcSN5JNCMV9"
      },
      "source": [
        "##A Python List is More Than Just a List\n",
        "Pembuatan list pada python sangatlah mudah, dan begitu juga tipe data yang dikandungnya bisa heteerogen, namun hal ini dikarenakan setiap anggota pada list merupakan sebuah objek tunggal. Hal ini tentunya mengurangi efisiensi. "
      ]
    },
    {
      "cell_type": "code",
      "metadata": {
        "colab": {
          "base_uri": "https://localhost:8080/"
        },
        "id": "MlwgXvWMCslr",
        "outputId": "f2c1d09f-b472-4d21-9adf-35ee34728d98"
      },
      "source": [
        "L = list(range(10))\n",
        "L"
      ],
      "execution_count": null,
      "outputs": [
        {
          "output_type": "execute_result",
          "data": {
            "text/plain": [
              "[0, 1, 2, 3, 4, 5, 6, 7, 8, 9]"
            ]
          },
          "metadata": {
            "tags": []
          },
          "execution_count": 6
        }
      ]
    },
    {
      "cell_type": "code",
      "metadata": {
        "colab": {
          "base_uri": "https://localhost:8080/"
        },
        "id": "zi8Al47CCxSU",
        "outputId": "15989108-534c-45d3-fc0a-d30a323e8c80"
      },
      "source": [
        "type(L[0])"
      ],
      "execution_count": null,
      "outputs": [
        {
          "output_type": "execute_result",
          "data": {
            "text/plain": [
              "int"
            ]
          },
          "metadata": {
            "tags": []
          },
          "execution_count": 7
        }
      ]
    },
    {
      "cell_type": "code",
      "metadata": {
        "colab": {
          "base_uri": "https://localhost:8080/"
        },
        "id": "qoycGI0qC1az",
        "outputId": "2661947f-1f71-4359-992b-31d30e5ef986"
      },
      "source": [
        "L2 = [str(c) for c in L]\n",
        "L2"
      ],
      "execution_count": null,
      "outputs": [
        {
          "output_type": "execute_result",
          "data": {
            "text/plain": [
              "['0', '1', '2', '3', '4', '5', '6', '7', '8', '9']"
            ]
          },
          "metadata": {
            "tags": []
          },
          "execution_count": 8
        }
      ]
    },
    {
      "cell_type": "code",
      "metadata": {
        "colab": {
          "base_uri": "https://localhost:8080/"
        },
        "id": "VazkXjGQC9r7",
        "outputId": "140a32dd-efb5-42d7-9b2f-21cbde17fd5e"
      },
      "source": [
        "type(L2[0])"
      ],
      "execution_count": null,
      "outputs": [
        {
          "output_type": "execute_result",
          "data": {
            "text/plain": [
              "str"
            ]
          },
          "metadata": {
            "tags": []
          },
          "execution_count": 9
        }
      ]
    },
    {
      "cell_type": "code",
      "metadata": {
        "colab": {
          "base_uri": "https://localhost:8080/"
        },
        "id": "Pyf0_2xoDA0T",
        "outputId": "3a3528b6-b968-437d-9074-c1c62c8b4c74"
      },
      "source": [
        "L3 = [True, \"2\", 3.0, 4]\n",
        "[type(item) for item in L3]"
      ],
      "execution_count": null,
      "outputs": [
        {
          "output_type": "execute_result",
          "data": {
            "text/plain": [
              "[bool, str, float, int]"
            ]
          },
          "metadata": {
            "tags": []
          },
          "execution_count": 10
        }
      ]
    },
    {
      "cell_type": "markdown",
      "metadata": {
        "id": "hiY2vs7UD5CC"
      },
      "source": [
        "##Fixed-Type Arrays in Python\n",
        "Penggunaan list tentunya mengurangi efisiensi dalam menjalankan kode namun hal ini dapat diatasi dengan menggunakan array() yang telah disediakan python. Namun, array ini memiliki sebuah kekurangan dimana diperlukannya deklarasi tipe data. Hal tersebut diatasi oleh NumPy Array yang dapat membuat isi list array heterogen dan multidimensional"
      ]
    },
    {
      "cell_type": "code",
      "metadata": {
        "colab": {
          "base_uri": "https://localhost:8080/"
        },
        "id": "uw6pHyP0EApz",
        "outputId": "122e763b-006f-49df-bc15-62e795abc8d4"
      },
      "source": [
        "import array \n",
        "L = list(range(10))\n",
        "A = array.array('i', L)\n",
        "A"
      ],
      "execution_count": null,
      "outputs": [
        {
          "output_type": "execute_result",
          "data": {
            "text/plain": [
              "array('i', [0, 1, 2, 3, 4, 5, 6, 7, 8, 9])"
            ]
          },
          "metadata": {
            "tags": []
          },
          "execution_count": 11
        }
      ]
    },
    {
      "cell_type": "code",
      "metadata": {
        "colab": {
          "base_uri": "https://localhost:8080/"
        },
        "id": "5S_qJLkREO98",
        "outputId": "14bf4ef6-f5c8-4908-cdbf-9330b81b515d"
      },
      "source": [
        "# import numpy as np\n",
        "np.array([1, 3, 2, 5])"
      ],
      "execution_count": null,
      "outputs": [
        {
          "output_type": "execute_result",
          "data": {
            "text/plain": [
              "array([1, 3, 2, 5])"
            ]
          },
          "metadata": {
            "tags": []
          },
          "execution_count": 12
        }
      ]
    },
    {
      "cell_type": "code",
      "metadata": {
        "colab": {
          "base_uri": "https://localhost:8080/"
        },
        "id": "SO5EAvUwEjWb",
        "outputId": "7d95fcf4-ae58-49ca-fa68-aba464ce6ad4"
      },
      "source": [
        "np.array([3.14, 4, 2, 6])"
      ],
      "execution_count": null,
      "outputs": [
        {
          "output_type": "execute_result",
          "data": {
            "text/plain": [
              "array([3.14, 4.  , 2.  , 6.  ])"
            ]
          },
          "metadata": {
            "tags": []
          },
          "execution_count": 13
        }
      ]
    },
    {
      "cell_type": "code",
      "metadata": {
        "colab": {
          "base_uri": "https://localhost:8080/"
        },
        "id": "Bf4kohpwEyPj",
        "outputId": "817e75ce-bbdf-4951-8d44-dee9acd19917"
      },
      "source": [
        "# jika ingin hasil keluaran memiliki data type yang sama\n",
        "np.array([1, 2, 3, 4], dtype='float32')"
      ],
      "execution_count": null,
      "outputs": [
        {
          "output_type": "execute_result",
          "data": {
            "text/plain": [
              "array([1., 2., 3., 4.], dtype=float32)"
            ]
          },
          "metadata": {
            "tags": []
          },
          "execution_count": 14
        }
      ]
    },
    {
      "cell_type": "code",
      "metadata": {
        "colab": {
          "base_uri": "https://localhost:8080/"
        },
        "id": "73p7rXlhE_cG",
        "outputId": "a27d0045-ccbf-4ba1-d76a-1adcb37f0fd0"
      },
      "source": [
        "# multidimensional array\n",
        "np.array([range(i, i + 3) for i in [2, 4, 6]])"
      ],
      "execution_count": null,
      "outputs": [
        {
          "output_type": "execute_result",
          "data": {
            "text/plain": [
              "array([[2, 3, 4],\n",
              "       [4, 5, 6],\n",
              "       [6, 7, 8]])"
            ]
          },
          "metadata": {
            "tags": []
          },
          "execution_count": 15
        }
      ]
    },
    {
      "cell_type": "markdown",
      "metadata": {
        "id": "OB_OVS6WFTCz"
      },
      "source": [
        "##Creating Array From Scratch"
      ]
    },
    {
      "cell_type": "code",
      "metadata": {
        "colab": {
          "base_uri": "https://localhost:8080/"
        },
        "id": "Loo4CoKOJ_bF",
        "outputId": "3ee0cf2b-58e5-4feb-de60-4553941c2976"
      },
      "source": [
        "# membuat array nol dnegan panjang 10\n",
        "np.zeros(10, dtype=int)"
      ],
      "execution_count": null,
      "outputs": [
        {
          "output_type": "execute_result",
          "data": {
            "text/plain": [
              "array([0, 0, 0, 0, 0, 0, 0, 0, 0, 0])"
            ]
          },
          "metadata": {
            "tags": []
          },
          "execution_count": 16
        }
      ]
    },
    {
      "cell_type": "code",
      "metadata": {
        "colab": {
          "base_uri": "https://localhost:8080/"
        },
        "id": "hKWap17yKH3L",
        "outputId": "63c3bd68-c734-4ca0-92c0-46321ab67de3"
      },
      "source": [
        "# membuat matrik 3x5 dengan nilai 1\n",
        "np.ones((3,5), dtype=float)"
      ],
      "execution_count": null,
      "outputs": [
        {
          "output_type": "execute_result",
          "data": {
            "text/plain": [
              "array([[1., 1., 1., 1., 1.],\n",
              "       [1., 1., 1., 1., 1.],\n",
              "       [1., 1., 1., 1., 1.]])"
            ]
          },
          "metadata": {
            "tags": []
          },
          "execution_count": 17
        }
      ]
    },
    {
      "cell_type": "code",
      "metadata": {
        "colab": {
          "base_uri": "https://localhost:8080/"
        },
        "id": "57SeEN0YKVyM",
        "outputId": "7902ad23-f7c1-4b6d-edc7-cd0c220b9606"
      },
      "source": [
        "# membuat array 3x5 dengan 3.14\n",
        "np.full((3, 5), 3.14)"
      ],
      "execution_count": null,
      "outputs": [
        {
          "output_type": "execute_result",
          "data": {
            "text/plain": [
              "array([[3.14, 3.14, 3.14, 3.14, 3.14],\n",
              "       [3.14, 3.14, 3.14, 3.14, 3.14],\n",
              "       [3.14, 3.14, 3.14, 3.14, 3.14]])"
            ]
          },
          "metadata": {
            "tags": []
          },
          "execution_count": 18
        }
      ]
    },
    {
      "cell_type": "code",
      "metadata": {
        "colab": {
          "base_uri": "https://localhost:8080/"
        },
        "id": "VSzDSd81KdWM",
        "outputId": "fffb4511-4f79-451a-d6a5-e2c37e2debe5"
      },
      "source": [
        "# membuat array dengan sequence number\n",
        "# dimulai dari 0 diakhiri dengan 20, dengan interval 2\n",
        "np.arange(0, 20, 2)"
      ],
      "execution_count": null,
      "outputs": [
        {
          "output_type": "execute_result",
          "data": {
            "text/plain": [
              "array([ 0,  2,  4,  6,  8, 10, 12, 14, 16, 18])"
            ]
          },
          "metadata": {
            "tags": []
          },
          "execution_count": 19
        }
      ]
    },
    {
      "cell_type": "code",
      "metadata": {
        "colab": {
          "base_uri": "https://localhost:8080/"
        },
        "id": "psNlQ6d2KwW8",
        "outputId": "ba05d004-a708-4f0c-aedf-7e1bab55139e"
      },
      "source": [
        "# Membuat array dengan 5 nilai didisbrusikan secara merata antara 0 sampai 1\n",
        "np.linspace(0, 1, 5)"
      ],
      "execution_count": null,
      "outputs": [
        {
          "output_type": "execute_result",
          "data": {
            "text/plain": [
              "array([0.  , 0.25, 0.5 , 0.75, 1.  ])"
            ]
          },
          "metadata": {
            "tags": []
          },
          "execution_count": 20
        }
      ]
    },
    {
      "cell_type": "code",
      "metadata": {
        "colab": {
          "base_uri": "https://localhost:8080/"
        },
        "id": "NrYbENjVLAGr",
        "outputId": "bccd5ddb-4d1c-48b5-df8c-e85c6fab5e4e"
      },
      "source": [
        "# Membuat array 3x3 secara terdistribusi\n",
        "# niali random antara 0 sampai 1\n",
        "np.random.random((3, 3))"
      ],
      "execution_count": null,
      "outputs": [
        {
          "output_type": "execute_result",
          "data": {
            "text/plain": [
              "array([[0.68023397, 0.21141777, 0.66022201],\n",
              "       [0.36227647, 0.06265786, 0.29102762],\n",
              "       [0.78450326, 0.37974164, 0.69774949]])"
            ]
          },
          "metadata": {
            "tags": []
          },
          "execution_count": 21
        }
      ]
    },
    {
      "cell_type": "code",
      "metadata": {
        "colab": {
          "base_uri": "https://localhost:8080/"
        },
        "id": "ADKDcWs0LRNM",
        "outputId": "29294c1b-06ad-4ded-80cd-24df153242a0"
      },
      "source": [
        "#membuat array 3x3 notmal distribution\n",
        "# dengan rerata 0 dan standar deviasi 1\n",
        "np.random.normal(0, 1, (3, 3))"
      ],
      "execution_count": null,
      "outputs": [
        {
          "output_type": "execute_result",
          "data": {
            "text/plain": [
              "array([[-1.6939579 , -0.06215653,  0.69462925],\n",
              "       [ 1.83590323,  0.43945017, -0.99507919],\n",
              "       [-0.31651637, -0.65932813,  0.7511953 ]])"
            ]
          },
          "metadata": {
            "tags": []
          },
          "execution_count": 22
        }
      ]
    },
    {
      "cell_type": "code",
      "metadata": {
        "colab": {
          "base_uri": "https://localhost:8080/"
        },
        "id": "gLw6Q_UOLjAz",
        "outputId": "103d2d6f-93e2-4aca-921b-eaf3da3792ad"
      },
      "source": [
        "# Membuat array 3x3 dengan niali random \n",
        "np.random.randint(0, 10, (3, 3))"
      ],
      "execution_count": null,
      "outputs": [
        {
          "output_type": "execute_result",
          "data": {
            "text/plain": [
              "array([[2, 4, 1],\n",
              "       [6, 7, 6],\n",
              "       [2, 4, 0]])"
            ]
          },
          "metadata": {
            "tags": []
          },
          "execution_count": 23
        }
      ]
    },
    {
      "cell_type": "code",
      "metadata": {
        "colab": {
          "base_uri": "https://localhost:8080/"
        },
        "id": "UW8bzwp3Luok",
        "outputId": "77218f4e-9452-455f-a0df-a13c24b9dc40"
      },
      "source": [
        "# Membuat array identitas 3x3\n",
        "np.eye(3)"
      ],
      "execution_count": null,
      "outputs": [
        {
          "output_type": "execute_result",
          "data": {
            "text/plain": [
              "array([[1., 0., 0.],\n",
              "       [0., 1., 0.],\n",
              "       [0., 0., 1.]])"
            ]
          },
          "metadata": {
            "tags": []
          },
          "execution_count": 24
        }
      ]
    },
    {
      "cell_type": "code",
      "metadata": {
        "colab": {
          "base_uri": "https://localhost:8080/"
        },
        "id": "v6dMfM9tL01k",
        "outputId": "0e76f4a1-62e7-4547-f05e-b8244e5e08c7"
      },
      "source": [
        "# Membuat array kosong\n",
        "np.empty(3)"
      ],
      "execution_count": null,
      "outputs": [
        {
          "output_type": "execute_result",
          "data": {
            "text/plain": [
              "array([1., 1., 1.])"
            ]
          },
          "metadata": {
            "tags": []
          },
          "execution_count": 25
        }
      ]
    },
    {
      "cell_type": "markdown",
      "metadata": {
        "id": "AYZfslKXL8C7"
      },
      "source": [
        "## NumPy Standard Data Types"
      ]
    },
    {
      "cell_type": "code",
      "metadata": {
        "colab": {
          "base_uri": "https://localhost:8080/"
        },
        "id": "yvpB9-sYMDvr",
        "outputId": "8b7ee463-616f-4a0a-cbe8-d4f9ebd8875b"
      },
      "source": [
        "#dengan string\n",
        "np.zeros(10, dtype='int16')"
      ],
      "execution_count": null,
      "outputs": [
        {
          "output_type": "execute_result",
          "data": {
            "text/plain": [
              "array([0, 0, 0, 0, 0, 0, 0, 0, 0, 0], dtype=int16)"
            ]
          },
          "metadata": {
            "tags": []
          },
          "execution_count": 26
        }
      ]
    },
    {
      "cell_type": "code",
      "metadata": {
        "colab": {
          "base_uri": "https://localhost:8080/"
        },
        "id": "0HZJxMQRMNIU",
        "outputId": "4c3916f2-f6b3-41ac-dc4a-965328b43dfc"
      },
      "source": [
        "# dengan numpy\n",
        "np.zeros(10, dtype=np.int)"
      ],
      "execution_count": null,
      "outputs": [
        {
          "output_type": "execute_result",
          "data": {
            "text/plain": [
              "array([0, 0, 0, 0, 0, 0, 0, 0, 0, 0])"
            ]
          },
          "metadata": {
            "tags": []
          },
          "execution_count": 27
        }
      ]
    },
    {
      "cell_type": "markdown",
      "metadata": {
        "id": "med2SaKPMds7"
      },
      "source": [
        "# Basic of NumPy Arrays"
      ]
    },
    {
      "cell_type": "markdown",
      "metadata": {
        "id": "8QNuqYUHfClz"
      },
      "source": [
        "## NumPy Array Attributes"
      ]
    },
    {
      "cell_type": "code",
      "metadata": {
        "id": "8RbSpJaQfNPy"
      },
      "source": [
        "np.random.seed(0)  # seed untuk pembuatan dummy\n",
        "\n",
        "x1 = np.random.randint(10, size=6)  # array satu dimensi\n",
        "x2 = np.random.randint(10, size=(3, 4))  # array dua dimensi\n",
        "x3 = np.random.randint(10, size=(3, 4, 5))  # array tiga dimensi"
      ],
      "execution_count": null,
      "outputs": []
    },
    {
      "cell_type": "markdown",
      "metadata": {
        "id": "4E08tcRSfeH6"
      },
      "source": [
        "ndim merupakan jumlah dimensi, shape besar dari tiap dimensi, dan size merupakan besar array"
      ]
    },
    {
      "cell_type": "code",
      "metadata": {
        "colab": {
          "base_uri": "https://localhost:8080/"
        },
        "id": "BfQJR0MafXgD",
        "outputId": "d897922b-3ae8-411e-e574-0171221146f9"
      },
      "source": [
        "print(\"x3 ndim: \", x3.ndim)\n",
        "print(\"x3 shape:\", x3.shape)\n",
        "print(\"x3 size: \", x3.size)"
      ],
      "execution_count": null,
      "outputs": [
        {
          "output_type": "stream",
          "text": [
            "x3 ndim:  3\n",
            "x3 shape: (3, 4, 5)\n",
            "x3 size:  60\n"
          ],
          "name": "stdout"
        }
      ]
    },
    {
      "cell_type": "markdown",
      "metadata": {
        "id": "g_OKhTG4frD6"
      },
      "source": [
        "dtype dapat memperlihatkan tipe data dari seluruh array"
      ]
    },
    {
      "cell_type": "code",
      "metadata": {
        "colab": {
          "base_uri": "https://localhost:8080/"
        },
        "id": "6HAC12z1foOT",
        "outputId": "ec84266e-5a6b-4729-e7ce-49199e5c7e49"
      },
      "source": [
        "print(\"dtype:\", x3.dtype)"
      ],
      "execution_count": null,
      "outputs": [
        {
          "output_type": "stream",
          "text": [
            "dtype: int64\n"
          ],
          "name": "stdout"
        }
      ]
    },
    {
      "cell_type": "markdown",
      "metadata": {
        "id": "s_jzTB7vfwfK"
      },
      "source": [
        "itemsize akan menampilkan besar dalam bytes tiap elemen array nya, dan nbytes akan menampilkan besar total"
      ]
    },
    {
      "cell_type": "code",
      "metadata": {
        "colab": {
          "base_uri": "https://localhost:8080/"
        },
        "id": "iFErlZNxfyF7",
        "outputId": "4ef997d8-a6af-4eeb-acf5-b3f3727fbea5"
      },
      "source": [
        "print(\"itemsize:\", x3.itemsize, \"bytes\")\n",
        "print(\"nbytes:\", x3.nbytes, \"bytes\")"
      ],
      "execution_count": null,
      "outputs": [
        {
          "output_type": "stream",
          "text": [
            "itemsize: 8 bytes\n",
            "nbytes: 480 bytes\n"
          ],
          "name": "stdout"
        }
      ]
    },
    {
      "cell_type": "markdown",
      "metadata": {
        "id": "ipHVIIlGgHDi"
      },
      "source": [
        "## Array Indexing: Accessing Single Elements\n",
        "\n",
        "kita dapat mengakses dengan menggunakan nomor index"
      ]
    },
    {
      "cell_type": "code",
      "metadata": {
        "colab": {
          "base_uri": "https://localhost:8080/"
        },
        "id": "qHyRTDq2gWvA",
        "outputId": "0de91d6e-3799-4eb2-fd21-dfc70740ea66"
      },
      "source": [
        "x1"
      ],
      "execution_count": null,
      "outputs": [
        {
          "output_type": "execute_result",
          "data": {
            "text/plain": [
              "array([5, 0, 3, 3, 7, 9])"
            ]
          },
          "metadata": {
            "tags": []
          },
          "execution_count": 32
        }
      ]
    },
    {
      "cell_type": "code",
      "metadata": {
        "colab": {
          "base_uri": "https://localhost:8080/"
        },
        "id": "NT5L5iiqgYuX",
        "outputId": "c0e935a0-2f05-48bf-ce2a-093ff513301c"
      },
      "source": [
        "x1[0]"
      ],
      "execution_count": null,
      "outputs": [
        {
          "output_type": "execute_result",
          "data": {
            "text/plain": [
              "5"
            ]
          },
          "metadata": {
            "tags": []
          },
          "execution_count": 33
        }
      ]
    },
    {
      "cell_type": "code",
      "metadata": {
        "colab": {
          "base_uri": "https://localhost:8080/"
        },
        "id": "SXOJ1q7OgaDv",
        "outputId": "1d1dd321-a995-42fa-8cb7-fd1cc62eee68"
      },
      "source": [
        "x1[4]"
      ],
      "execution_count": null,
      "outputs": [
        {
          "output_type": "execute_result",
          "data": {
            "text/plain": [
              "7"
            ]
          },
          "metadata": {
            "tags": []
          },
          "execution_count": 34
        }
      ]
    },
    {
      "cell_type": "code",
      "metadata": {
        "colab": {
          "base_uri": "https://localhost:8080/"
        },
        "id": "QCP3qq_XgcEZ",
        "outputId": "5f05f4bf-f113-4bdc-f183-c511f935d035"
      },
      "source": [
        "x1[-1]"
      ],
      "execution_count": null,
      "outputs": [
        {
          "output_type": "execute_result",
          "data": {
            "text/plain": [
              "9"
            ]
          },
          "metadata": {
            "tags": []
          },
          "execution_count": 35
        }
      ]
    },
    {
      "cell_type": "code",
      "metadata": {
        "colab": {
          "base_uri": "https://localhost:8080/"
        },
        "id": "8WJ_6tU8gdts",
        "outputId": "6b8dffae-19eb-44d7-e7b2-f3281f1abeb6"
      },
      "source": [
        "x1[-2]"
      ],
      "execution_count": null,
      "outputs": [
        {
          "output_type": "execute_result",
          "data": {
            "text/plain": [
              "7"
            ]
          },
          "metadata": {
            "tags": []
          },
          "execution_count": 36
        }
      ]
    },
    {
      "cell_type": "code",
      "metadata": {
        "colab": {
          "base_uri": "https://localhost:8080/"
        },
        "id": "MNp1R84YgfDe",
        "outputId": "a2c62793-bc31-4dae-c386-0d141caeebed"
      },
      "source": [
        "x2"
      ],
      "execution_count": null,
      "outputs": [
        {
          "output_type": "execute_result",
          "data": {
            "text/plain": [
              "array([[3, 5, 2, 4],\n",
              "       [7, 6, 8, 8],\n",
              "       [1, 6, 7, 7]])"
            ]
          },
          "metadata": {
            "tags": []
          },
          "execution_count": 37
        }
      ]
    },
    {
      "cell_type": "code",
      "metadata": {
        "id": "NMITdzc9gfxZ"
      },
      "source": [
        "x2[0, 0]"
      ],
      "execution_count": null,
      "outputs": []
    },
    {
      "cell_type": "code",
      "metadata": {
        "id": "VEsbE4wYgjm9"
      },
      "source": [
        "x2[2, 0]"
      ],
      "execution_count": null,
      "outputs": []
    },
    {
      "cell_type": "code",
      "metadata": {
        "id": "hBUHrYrZgkxb"
      },
      "source": [
        "x2[2, -1]"
      ],
      "execution_count": null,
      "outputs": []
    },
    {
      "cell_type": "markdown",
      "metadata": {
        "id": "i7OEWqpLgnIi"
      },
      "source": [
        "nilai dari array juga bisa diubah menggunakan index"
      ]
    },
    {
      "cell_type": "code",
      "metadata": {
        "id": "diW6NZNTgqeC"
      },
      "source": [
        "x2[0, 0] = 12\n",
        "x2"
      ],
      "execution_count": null,
      "outputs": []
    },
    {
      "cell_type": "markdown",
      "metadata": {
        "id": "Y-b3cq43g2MD"
      },
      "source": [
        "## Array Slicing: Accessing Subarrays\n",
        "\n"
      ]
    },
    {
      "cell_type": "markdown",
      "metadata": {
        "id": "omdQa6jHg4Wi"
      },
      "source": [
        "kita juga bisa menggunakan [] untuk mengakses subarrays. Hal tersebut dapat dilakukan menggunakan :"
      ]
    },
    {
      "cell_type": "code",
      "metadata": {
        "id": "4nSjosYCg-DT"
      },
      "source": [
        "x[start:stop:step]"
      ],
      "execution_count": null,
      "outputs": []
    },
    {
      "cell_type": "markdown",
      "metadata": {
        "id": "H9cqbOPLiMnh"
      },
      "source": [
        "### One-dimensional subarrays"
      ]
    },
    {
      "cell_type": "code",
      "metadata": {
        "id": "JJ_9UIhUiIxh"
      },
      "source": [
        "x = np.arange(10)\n",
        "x"
      ],
      "execution_count": null,
      "outputs": []
    }
  ]
}