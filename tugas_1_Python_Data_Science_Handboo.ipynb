{
  "nbformat": 4,
  "nbformat_minor": 0,
  "metadata": {
    "colab": {
      "name": "tugas-1-Python-Data-Science-Handboo.ipynb",
      "provenance": [],
      "toc_visible": true,
      "authorship_tag": "ABX9TyOePYebEcJ7/Ck8ySd43SnA",
      "include_colab_link": true
    },
    "kernelspec": {
      "name": "python3",
      "display_name": "Python 3"
    },
    "language_info": {
      "name": "python"
    }
  },
  "cells": [
    {
      "cell_type": "markdown",
      "metadata": {
        "id": "view-in-github",
        "colab_type": "text"
      },
      "source": [
        "<a href=\"https://colab.research.google.com/github/mnfaizp/Big-Data-Course/blob/main/tugas_1_Python_Data_Science_Handboo.ipynb\" target=\"_parent\"><img src=\"https://colab.research.google.com/assets/colab-badge.svg\" alt=\"Open In Colab\"/></a>"
      ]
    },
    {
      "cell_type": "markdown",
      "metadata": {
        "id": "myajN4H9TDW5"
      },
      "source": [
        "#Python Data Science Handbook"
      ]
    },
    {
      "cell_type": "markdown",
      "metadata": {
        "id": "Yr6DfJQET4mv"
      },
      "source": [
        "##IPython Magic Commands\n",
        "\n",
        "Bagian ini menjelaskan tentang perintah python yang sangat membantu dalam pengerjaan data analysis seperti % yang digunakan unutuk single line command dan %% untuk multiple line command"
      ]
    },
    {
      "cell_type": "markdown",
      "metadata": {
        "id": "C0DQJf7fUpXY"
      },
      "source": [
        "###Pasting Code Blocks: %paste and %cpaste\n",
        "\n",
        "Perintah ini akan sangat diperlukan jika kita akan melakukakan copy-paste code pada , %paste akan digunakan untuk membantu kita melakukan copy paste tanpa menghiraukan intendasi kode yang telah dilakukan copy paste, namun jika kita melakukan copy paste secara langsung tanpa menggunakan %paste pada notebook maka kode tetap akan berjalan dan jika kita tambahkan perintah command malah hanya akan membuat kode tidak dapat berjalan."
      ]
    },
    {
      "cell_type": "code",
      "metadata": {
        "id": "RESO-a9DTDIr"
      },
      "source": [
        "##we need to make it become shell\n",
        ">>> def donothing(x):\n",
        "...     return x\n"
      ],
      "execution_count": 27,
      "outputs": []
    },
    {
      "cell_type": "code",
      "metadata": {
        "colab": {
          "base_uri": "https://localhost:8080/",
          "height": 130
        },
        "id": "bfXkaaAOWJ4C",
        "outputId": "71b005f1-8733-43b0-9afc-7bc1829c46a3"
      },
      "source": [
        "%paste\n",
        ">>> def donothing(x):\n",
        "...     return x\n",
        "## -- End pasted text --\n",
        "\n",
        "donothing(10)"
      ],
      "execution_count": 2,
      "outputs": [
        {
          "output_type": "error",
          "ename": "SyntaxError",
          "evalue": "ignored",
          "traceback": [
            "\u001b[0;36m  File \u001b[0;32m\"<ipython-input-2-6d9c17890402>\"\u001b[0;36m, line \u001b[0;32m2\u001b[0m\n\u001b[0;31m    >>> def donothing(x):\u001b[0m\n\u001b[0m     ^\u001b[0m\n\u001b[0;31mSyntaxError\u001b[0m\u001b[0;31m:\u001b[0m invalid syntax\n"
          ]
        }
      ]
    },
    {
      "cell_type": "code",
      "metadata": {
        "colab": {
          "base_uri": "https://localhost:8080/",
          "height": 130
        },
        "id": "7rnSeEd6W9Qo",
        "outputId": "1b0ccd22-5395-4c6e-893b-1fca3700dda5"
      },
      "source": [
        "%cpaste\n",
        ">>> def donothing(x):\n",
        "...     return x\n",
        "--"
      ],
      "execution_count": 3,
      "outputs": [
        {
          "output_type": "error",
          "ename": "SyntaxError",
          "evalue": "ignored",
          "traceback": [
            "\u001b[0;36m  File \u001b[0;32m\"<ipython-input-3-1ecd9cfb9538>\"\u001b[0;36m, line \u001b[0;32m2\u001b[0m\n\u001b[0;31m    >>> def donothing(x):\u001b[0m\n\u001b[0m     ^\u001b[0m\n\u001b[0;31mSyntaxError\u001b[0m\u001b[0;31m:\u001b[0m invalid syntax\n"
          ]
        }
      ]
    },
    {
      "cell_type": "markdown",
      "metadata": {
        "id": "B3ALMNdTcOmf"
      },
      "source": [
        "*Comment: %paste tidak tersedia pada magic command colab*"
      ]
    },
    {
      "cell_type": "markdown",
      "metadata": {
        "id": "nBQIs9psXU-w"
      },
      "source": [
        "###Running External Code : %run\n",
        "\n",
        "Perintah ini akan menjalankan source code python dari luar yang interpreter jalankan. Kita contohkan disini kita memiliki kode myscript.py"
      ]
    },
    {
      "cell_type": "code",
      "metadata": {
        "colab": {
          "base_uri": "https://localhost:8080/"
        },
        "id": "11OJlwPKXz1I",
        "outputId": "f9157a6f-d7f4-4383-df89-593ad155de60"
      },
      "source": [
        "##this is myscript.py and we will save it on root\n",
        "%%writefile myscript.py\n",
        "\n",
        "def square(x):\n",
        "  return x ** 2\n",
        "\n",
        "for N in range(1, 4):\n",
        "  print(N, \"squared is\", square(N))\n"
      ],
      "execution_count": 4,
      "outputs": [
        {
          "output_type": "stream",
          "text": [
            "Overwriting myscript.py\n"
          ],
          "name": "stdout"
        }
      ]
    },
    {
      "cell_type": "code",
      "metadata": {
        "colab": {
          "base_uri": "https://localhost:8080/"
        },
        "id": "evjJGFJFYO5_",
        "outputId": "3d7ac0aa-d7f7-45c5-b723-5e44893a13ca"
      },
      "source": [
        "##we will run myscript.py with %run\n",
        "%run myscript.py"
      ],
      "execution_count": 5,
      "outputs": [
        {
          "output_type": "stream",
          "text": [
            "1 squared is 1\n",
            "2 squared is 4\n",
            "3 squared is 9\n"
          ],
          "name": "stdout"
        }
      ]
    },
    {
      "cell_type": "markdown",
      "metadata": {
        "id": "J_3b-1AaZOnQ"
      },
      "source": [
        "###Timing Code Execution: %timeit\n",
        "\n",
        "Penggunaan perintah ini dapat mengeluarkan hasil berupa waktu ekseskusi yang biasanya digunakan untuk membandingkan performa sebuah kode"
      ]
    },
    {
      "cell_type": "code",
      "metadata": {
        "colab": {
          "base_uri": "https://localhost:8080/"
        },
        "id": "JYOedHV3ZqhP",
        "outputId": "61c8241a-372d-4e03-c9d9-a9de17f6876a"
      },
      "source": [
        "##disini %timeit digunakan untuk single line\n",
        "\n",
        "%timeit L = [n ** 2 for n in range(1000)]"
      ],
      "execution_count": 6,
      "outputs": [
        {
          "output_type": "stream",
          "text": [
            "1000 loops, best of 5: 263 µs per loop\n"
          ],
          "name": "stdout"
        }
      ]
    },
    {
      "cell_type": "code",
      "metadata": {
        "colab": {
          "base_uri": "https://localhost:8080/"
        },
        "id": "wSSMtPLWZ1fv",
        "outputId": "182759d8-5200-4557-910f-b7f9a6376e5d"
      },
      "source": [
        "##untuk multiple line maka tinggal menambahkna %\n",
        "%%timeit\n",
        "\n",
        "L = []\n",
        "\n",
        "for n in range(1000):\n",
        "  L.append(n ** 2)"
      ],
      "execution_count": 7,
      "outputs": [
        {
          "output_type": "stream",
          "text": [
            "1000 loops, best of 5: 304 µs per loop\n"
          ],
          "name": "stdout"
        }
      ]
    },
    {
      "cell_type": "markdown",
      "metadata": {
        "id": "upbTtRr5aQ62"
      },
      "source": [
        "Dapat dilihat bahwa list comprehension lebih cepat dibandingkan dengna penggunaan tradisional for"
      ]
    },
    {
      "cell_type": "markdown",
      "metadata": {
        "id": "tXWJPSeyaWP_"
      },
      "source": [
        "###Help on Magic Functions: ?, %magic, and %lsmagic\n",
        "\n",
        "ini merupakan perintah untuk mendapatkan petunjuk tentang magic command yang kita inginkan atau untuk melihat dokumentasi"
      ]
    },
    {
      "cell_type": "code",
      "metadata": {
        "id": "9nRP4Op7aiUY"
      },
      "source": [
        "%timeit?"
      ],
      "execution_count": 8,
      "outputs": []
    },
    {
      "cell_type": "code",
      "metadata": {
        "id": "Gt7FutfAa0vG"
      },
      "source": [
        "%magic"
      ],
      "execution_count": 9,
      "outputs": []
    },
    {
      "cell_type": "code",
      "metadata": {
        "colab": {
          "base_uri": "https://localhost:8080/",
          "height": 156
        },
        "id": "wBWYHuI_a34V",
        "outputId": "e0372810-d6a0-493d-a524-336fcb234dcf"
      },
      "source": [
        "%lsmagic"
      ],
      "execution_count": 10,
      "outputs": [
        {
          "output_type": "execute_result",
          "data": {
            "application/json": {
              "cell": {
                "prun": "ExecutionMagics",
                "file": "Other",
                "!": "OSMagics",
                "capture": "ExecutionMagics",
                "timeit": "ExecutionMagics",
                "script": "ScriptMagics",
                "pypy": "Other",
                "system": "OSMagics",
                "perl": "Other",
                "html": "DisplayMagics",
                "bash": "Other",
                "shell": "Other",
                "HTML": "Other",
                "python": "Other",
                "SVG": "Other",
                "javascript": "DisplayMagics",
                "bigquery": "Other",
                "js": "DisplayMagics",
                "writefile": "OSMagics",
                "ruby": "Other",
                "python3": "Other",
                "python2": "Other",
                "latex": "DisplayMagics",
                "sx": "OSMagics",
                "svg": "DisplayMagics",
                "sh": "Other",
                "time": "ExecutionMagics",
                "debug": "ExecutionMagics"
              },
              "line": {
                "psource": "NamespaceMagics",
                "logstart": "LoggingMagics",
                "popd": "OSMagics",
                "tensorflow_version": "Other",
                "loadpy": "CodeMagics",
                "colors": "BasicMagics",
                "who_ls": "NamespaceMagics",
                "lf": "Other",
                "ll": "Other",
                "pprint": "BasicMagics",
                "lk": "Other",
                "ls": "Other",
                "save": "CodeMagics",
                "tb": "ExecutionMagics",
                "lx": "Other",
                "pylab": "PylabMagics",
                "killbgscripts": "ScriptMagics",
                "quickref": "BasicMagics",
                "magic": "BasicMagics",
                "dhist": "OSMagics",
                "edit": "KernelMagics",
                "logstop": "LoggingMagics",
                "gui": "BasicMagics",
                "prun": "ExecutionMagics",
                "debug": "ExecutionMagics",
                "page": "BasicMagics",
                "logstate": "LoggingMagics",
                "ed": "Other",
                "pushd": "OSMagics",
                "timeit": "ExecutionMagics",
                "set_env": "OSMagics",
                "rehashx": "OSMagics",
                "hist": "Other",
                "qtconsole": "KernelMagics",
                "rm": "Other",
                "dirs": "OSMagics",
                "run": "ExecutionMagics",
                "reset_selective": "NamespaceMagics",
                "pinfo2": "NamespaceMagics",
                "matplotlib": "PylabMagics",
                "unload_ext": "ExtensionMagics",
                "doctest_mode": "BasicMagics",
                "logoff": "LoggingMagics",
                "reload_ext": "ExtensionMagics",
                "pdb": "ExecutionMagics",
                "load": "CodeMagics",
                "lsmagic": "BasicMagics",
                "autosave": "KernelMagics",
                "cd": "OSMagics",
                "pastebin": "CodeMagics",
                "alias_magic": "BasicMagics",
                "cp": "Other",
                "autocall": "AutoMagics",
                "ldir": "Other",
                "bookmark": "OSMagics",
                "connect_info": "KernelMagics",
                "mkdir": "Other",
                "system": "OSMagics",
                "whos": "NamespaceMagics",
                "rmdir": "Other",
                "automagic": "AutoMagics",
                "store": "StoreMagics",
                "more": "KernelMagics",
                "shell": "Other",
                "pdef": "NamespaceMagics",
                "precision": "BasicMagics",
                "pinfo": "NamespaceMagics",
                "pwd": "OSMagics",
                "psearch": "NamespaceMagics",
                "reset": "NamespaceMagics",
                "recall": "HistoryMagics",
                "xdel": "NamespaceMagics",
                "xmode": "BasicMagics",
                "cat": "Other",
                "mv": "Other",
                "rerun": "HistoryMagics",
                "logon": "LoggingMagics",
                "history": "HistoryMagics",
                "pycat": "OSMagics",
                "pip": "Other",
                "unalias": "OSMagics",
                "env": "OSMagics",
                "load_ext": "ExtensionMagics",
                "config": "ConfigMagics",
                "profile": "BasicMagics",
                "pfile": "NamespaceMagics",
                "less": "KernelMagics",
                "who": "NamespaceMagics",
                "notebook": "BasicMagics",
                "man": "KernelMagics",
                "sx": "OSMagics",
                "macro": "ExecutionMagics",
                "clear": "KernelMagics",
                "alias": "OSMagics",
                "time": "ExecutionMagics",
                "sc": "OSMagics",
                "rep": "Other",
                "pdoc": "NamespaceMagics"
              }
            },
            "text/plain": [
              "Available line magics:\n",
              "%alias  %alias_magic  %autocall  %automagic  %autosave  %bookmark  %cat  %cd  %clear  %colors  %config  %connect_info  %cp  %debug  %dhist  %dirs  %doctest_mode  %ed  %edit  %env  %gui  %hist  %history  %killbgscripts  %ldir  %less  %lf  %lk  %ll  %load  %load_ext  %loadpy  %logoff  %logon  %logstart  %logstate  %logstop  %ls  %lsmagic  %lx  %macro  %magic  %man  %matplotlib  %mkdir  %more  %mv  %notebook  %page  %pastebin  %pdb  %pdef  %pdoc  %pfile  %pinfo  %pinfo2  %pip  %popd  %pprint  %precision  %profile  %prun  %psearch  %psource  %pushd  %pwd  %pycat  %pylab  %qtconsole  %quickref  %recall  %rehashx  %reload_ext  %rep  %rerun  %reset  %reset_selective  %rm  %rmdir  %run  %save  %sc  %set_env  %shell  %store  %sx  %system  %tb  %tensorflow_version  %time  %timeit  %unalias  %unload_ext  %who  %who_ls  %whos  %xdel  %xmode\n",
              "\n",
              "Available cell magics:\n",
              "%%!  %%HTML  %%SVG  %%bash  %%bigquery  %%capture  %%debug  %%file  %%html  %%javascript  %%js  %%latex  %%perl  %%prun  %%pypy  %%python  %%python2  %%python3  %%ruby  %%script  %%sh  %%shell  %%svg  %%sx  %%system  %%time  %%timeit  %%writefile\n",
              "\n",
              "Automagic is ON, % prefix IS NOT needed for line magics."
            ]
          },
          "metadata": {
            "tags": []
          },
          "execution_count": 10
        }
      ]
    },
    {
      "cell_type": "markdown",
      "metadata": {
        "id": "2McW376_bfnW"
      },
      "source": [
        "##Input and Output History"
      ]
    },
    {
      "cell_type": "markdown",
      "metadata": {
        "id": "4JK_YqDqcgGW"
      },
      "source": [
        "###IPython's In and Out Objects\n",
        "\n",
        "Menggunakan perintah In dan Out, kita dapat mengakses input maupun output yang ada pada cell sebelumnya"
      ]
    },
    {
      "cell_type": "code",
      "metadata": {
        "id": "9HPx7H_sc3-m"
      },
      "source": [
        "import math"
      ],
      "execution_count": 11,
      "outputs": []
    },
    {
      "cell_type": "code",
      "metadata": {
        "colab": {
          "base_uri": "https://localhost:8080/"
        },
        "id": "tpGWuiK-c5wW",
        "outputId": "426ac992-97f1-4e60-d05a-730f9d5d2fe4"
      },
      "source": [
        "math.sin(2)"
      ],
      "execution_count": 12,
      "outputs": [
        {
          "output_type": "execute_result",
          "data": {
            "text/plain": [
              "0.9092974268256817"
            ]
          },
          "metadata": {
            "tags": []
          },
          "execution_count": 12
        }
      ]
    },
    {
      "cell_type": "code",
      "metadata": {
        "colab": {
          "base_uri": "https://localhost:8080/"
        },
        "id": "RwPL5PakdEjt",
        "outputId": "e9f7a256-a437-4aeb-ddb4-e0699cd39f3e"
      },
      "source": [
        "math.cos(2)"
      ],
      "execution_count": 13,
      "outputs": [
        {
          "output_type": "execute_result",
          "data": {
            "text/plain": [
              "-0.4161468365471424"
            ]
          },
          "metadata": {
            "tags": []
          },
          "execution_count": 13
        }
      ]
    },
    {
      "cell_type": "code",
      "metadata": {
        "colab": {
          "base_uri": "https://localhost:8080/"
        },
        "id": "4ZCehma-dVjO",
        "outputId": "b62d40a4-e08a-4159-ef43-94f486ee4bb2"
      },
      "source": [
        "print(In)"
      ],
      "execution_count": 14,
      "outputs": [
        {
          "output_type": "stream",
          "text": [
            "['', \"##we need to make it become shell\\nget_ipython().magic('shell')\\n\\n>>> def donothing(x):\\n...     return x\", \"get_ipython().magic('paste')\\n>>> def donothing(x):\\n...     return x\\n## -- End pasted text --\\n\\ndonothing(10)\", \"get_ipython().magic('cpaste')\\n>>> def donothing(x):\\n...     return x\\n--\", 'get_ipython().run_cell_magic(\\'writefile\\', \\'myscript.py\\', \\'\\\\ndef square(x):\\\\n  return x ** 2\\\\n\\\\nfor N in range(1, 4):\\\\n  print(N, \"squared is\", square(N))\\')', \"##we will run myscript.py with %run\\nget_ipython().magic('run myscript.py')\", \"##disini %timeit digunakan untuk single line\\n\\nget_ipython().magic('timeit L = [n ** 2 for n in range(1000)]')\", \"get_ipython().run_cell_magic('timeit', '', '\\\\nL = []\\\\n\\\\nfor n in range(1000):\\\\n  L.append(n ** 2)')\", \"get_ipython().magic('pinfo %timeit')\", \"get_ipython().magic('magic')\", \"get_ipython().magic('lsmagic')\", 'import math', 'math.sin(2)', 'math.cos(2)', 'print(In)']\n"
          ],
          "name": "stdout"
        }
      ]
    },
    {
      "cell_type": "code",
      "metadata": {
        "colab": {
          "base_uri": "https://localhost:8080/"
        },
        "id": "TM4-mfxudbXl",
        "outputId": "dcc8bc01-7878-4154-908c-c4e1311b278f"
      },
      "source": [
        "Out"
      ],
      "execution_count": 15,
      "outputs": [
        {
          "output_type": "execute_result",
          "data": {
            "text/plain": [
              "{10: Available line magics:\n",
              "%alias  %alias_magic  %autocall  %automagic  %autosave  %bookmark  %cat  %cd  %clear  %colors  %config  %connect_info  %cp  %debug  %dhist  %dirs  %doctest_mode  %ed  %edit  %env  %gui  %hist  %history  %killbgscripts  %ldir  %less  %lf  %lk  %ll  %load  %load_ext  %loadpy  %logoff  %logon  %logstart  %logstate  %logstop  %ls  %lsmagic  %lx  %macro  %magic  %man  %matplotlib  %mkdir  %more  %mv  %notebook  %page  %pastebin  %pdb  %pdef  %pdoc  %pfile  %pinfo  %pinfo2  %pip  %popd  %pprint  %precision  %profile  %prun  %psearch  %psource  %pushd  %pwd  %pycat  %pylab  %qtconsole  %quickref  %recall  %rehashx  %reload_ext  %rep  %rerun  %reset  %reset_selective  %rm  %rmdir  %run  %save  %sc  %set_env  %shell  %store  %sx  %system  %tb  %tensorflow_version  %time  %timeit  %unalias  %unload_ext  %who  %who_ls  %whos  %xdel  %xmode\n",
              "\n",
              "Available cell magics:\n",
              "%%!  %%HTML  %%SVG  %%bash  %%bigquery  %%capture  %%debug  %%file  %%html  %%javascript  %%js  %%latex  %%perl  %%prun  %%pypy  %%python  %%python2  %%python3  %%ruby  %%script  %%sh  %%shell  %%svg  %%sx  %%system  %%time  %%timeit  %%writefile\n",
              "\n",
              "Automagic is ON, % prefix IS NOT needed for line magics.,\n",
              " 12: 0.9092974268256817,\n",
              " 13: -0.4161468365471424}"
            ]
          },
          "metadata": {
            "tags": []
          },
          "execution_count": 15
        }
      ]
    },
    {
      "cell_type": "markdown",
      "metadata": {
        "id": "lkg3mT3Wdja3"
      },
      "source": [
        "Input di deskripsikan menggunakan array dan output dideskripsikan menggunakan list"
      ]
    },
    {
      "cell_type": "code",
      "metadata": {
        "colab": {
          "base_uri": "https://localhost:8080/"
        },
        "id": "C3dn20POdfXn",
        "outputId": "09f7733b-df0d-47e2-914f-6a9cb39b2dcb"
      },
      "source": [
        "print(In[12])"
      ],
      "execution_count": 16,
      "outputs": [
        {
          "output_type": "stream",
          "text": [
            "math.sin(2)\n"
          ],
          "name": "stdout"
        }
      ]
    },
    {
      "cell_type": "code",
      "metadata": {
        "colab": {
          "base_uri": "https://localhost:8080/"
        },
        "id": "ySoE566ZeFZG",
        "outputId": "0d3a2dff-390a-4969-e696-efda0ea54dc9"
      },
      "source": [
        "print(Out[13])"
      ],
      "execution_count": 17,
      "outputs": [
        {
          "output_type": "stream",
          "text": [
            "-0.4161468365471424\n"
          ],
          "name": "stdout"
        }
      ]
    },
    {
      "cell_type": "code",
      "metadata": {
        "colab": {
          "base_uri": "https://localhost:8080/"
        },
        "id": "OXMXaH8FeP0W",
        "outputId": "268620d6-9d19-4f70-d00f-d62312ddafa8"
      },
      "source": [
        "Out[12] ** 2 + Out[13] ** 2"
      ],
      "execution_count": 18,
      "outputs": [
        {
          "output_type": "execute_result",
          "data": {
            "text/plain": [
              "1.0"
            ]
          },
          "metadata": {
            "tags": []
          },
          "execution_count": 18
        }
      ]
    },
    {
      "cell_type": "markdown",
      "metadata": {
        "id": "UoOcLAVefaYd"
      },
      "source": [
        "###Underscore Shortcuts and Previous Outputs\n",
        "\n",
        "Perintah yang digunakan pada shell untuk mengakases output sebelumnya ialah _, namun pada IPython kita dapat menggunaakn __ untuk mengakses output dua terakhir. Juga akan lebih mudah jika menggunakan _X dimana X merupakan nomor output"
      ]
    },
    {
      "cell_type": "code",
      "metadata": {
        "colab": {
          "base_uri": "https://localhost:8080/"
        },
        "id": "_Jjh-3NFfXou",
        "outputId": "bfd86e27-f311-4775-8690-7bb19700904f"
      },
      "source": [
        "print(__)"
      ],
      "execution_count": 21,
      "outputs": [
        {
          "output_type": "stream",
          "text": [
            "-0.4161468365471424\n"
          ],
          "name": "stdout"
        }
      ]
    },
    {
      "cell_type": "code",
      "metadata": {
        "colab": {
          "base_uri": "https://localhost:8080/"
        },
        "id": "oTG9znxEf5bF",
        "outputId": "365f13aa-5cae-4339-8133-223ecf2304a5"
      },
      "source": [
        "print(___)"
      ],
      "execution_count": 22,
      "outputs": [
        {
          "output_type": "stream",
          "text": [
            "0.9092974268256817\n"
          ],
          "name": "stdout"
        }
      ]
    },
    {
      "cell_type": "code",
      "metadata": {
        "colab": {
          "base_uri": "https://localhost:8080/"
        },
        "id": "DM-2MpW-f8T9",
        "outputId": "90ec8594-34f9-4683-893e-46285ed59758"
      },
      "source": [
        "Out[13]"
      ],
      "execution_count": 24,
      "outputs": [
        {
          "output_type": "execute_result",
          "data": {
            "text/plain": [
              "-0.4161468365471424"
            ]
          },
          "metadata": {
            "tags": []
          },
          "execution_count": 24
        }
      ]
    },
    {
      "cell_type": "code",
      "metadata": {
        "colab": {
          "base_uri": "https://localhost:8080/"
        },
        "id": "O9kwa2MCgEA1",
        "outputId": "7ba121f1-fd8d-42c9-80c2-16d3d6adb9cf"
      },
      "source": [
        "_12"
      ],
      "execution_count": 25,
      "outputs": [
        {
          "output_type": "execute_result",
          "data": {
            "text/plain": [
              "0.9092974268256817"
            ]
          },
          "metadata": {
            "tags": []
          },
          "execution_count": 25
        }
      ]
    },
    {
      "cell_type": "markdown",
      "metadata": {
        "id": "vrxA-KmSgHME"
      },
      "source": [
        "###Suppressing Output\n",
        "\n",
        "Menambahkan semicolon pada akhir code akan menghilangkan output yang dihasilkan oleh code tersebut"
      ]
    },
    {
      "cell_type": "code",
      "metadata": {
        "id": "g-ha0yLSgb6X"
      },
      "source": [
        "math.sin(2) + math.cos(2);"
      ],
      "execution_count": 28,
      "outputs": []
    },
    {
      "cell_type": "code",
      "metadata": {
        "colab": {
          "base_uri": "https://localhost:8080/"
        },
        "id": "44CxCmSbgyFO",
        "outputId": "eb5aa54f-11f4-4bf0-c803-cc9086ffeb6b"
      },
      "source": [
        "28 in Out"
      ],
      "execution_count": 30,
      "outputs": [
        {
          "output_type": "execute_result",
          "data": {
            "text/plain": [
              "False"
            ]
          },
          "metadata": {
            "tags": []
          },
          "execution_count": 30
        }
      ]
    },
    {
      "cell_type": "markdown",
      "metadata": {
        "id": "EqWzrnSPg520"
      },
      "source": [
        "###Related Magic Commands\n",
        "\n",
        "Kita dapat mengakses input sebelumnya dengan menggunakan magic command %history"
      ]
    },
    {
      "cell_type": "code",
      "metadata": {
        "colab": {
          "base_uri": "https://localhost:8080/"
        },
        "id": "R762Fu4ihF52",
        "outputId": "7daf0799-c6a4-4b9b-a45c-55db51a8c6b2"
      },
      "source": [
        "%history -n 1-4\n"
      ],
      "execution_count": 32,
      "outputs": [
        {
          "output_type": "stream",
          "text": [
            "   1:\n",
            "##we need to make it become shell\n",
            "%shell\n",
            "\n",
            ">>> def donothing(x):\n",
            "...     return x\n",
            "   2:\n",
            "%paste\n",
            ">>> def donothing(x):\n",
            "...     return x\n",
            "## -- End pasted text --\n",
            "\n",
            "donothing(10)\n",
            "   3:\n",
            "%cpaste\n",
            ">>> def donothing(x):\n",
            "...     return x\n",
            "--\n",
            "   4:\n",
            "%%writefile myscript.py\n",
            "\n",
            "def square(x):\n",
            "  return x ** 2\n",
            "\n",
            "for N in range(1, 4):\n",
            "  print(N, \"squared is\", square(N))\n"
          ],
          "name": "stdout"
        }
      ]
    }
  ]
}