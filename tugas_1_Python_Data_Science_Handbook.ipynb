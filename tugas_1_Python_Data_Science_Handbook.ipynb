{
  "nbformat": 4,
  "nbformat_minor": 0,
  "metadata": {
    "colab": {
      "name": "tugas-1-Python-Data-Science-Handbook.ipynb",
      "provenance": [],
      "toc_visible": true,
      "authorship_tag": "ABX9TyM1JWo81nr7lneh9KkucOER",
      "include_colab_link": true
    },
    "kernelspec": {
      "name": "python3",
      "display_name": "Python 3"
    },
    "language_info": {
      "name": "python"
    }
  },
  "cells": [
    {
      "cell_type": "markdown",
      "metadata": {
        "id": "view-in-github",
        "colab_type": "text"
      },
      "source": [
        "<a href=\"https://colab.research.google.com/github/mnfaizp/Big-Data-Course/blob/main/tugas_1_Python_Data_Science_Handbook.ipynb\" target=\"_parent\"><img src=\"https://colab.research.google.com/assets/colab-badge.svg\" alt=\"Open In Colab\"/></a>"
      ]
    },
    {
      "cell_type": "markdown",
      "metadata": {
        "id": "myajN4H9TDW5"
      },
      "source": [
        "#Python Data Science Handbook"
      ]
    },
    {
      "cell_type": "markdown",
      "metadata": {
        "id": "Yr6DfJQET4mv"
      },
      "source": [
        "##IPython Magic Commands\n",
        "\n",
        "Bagian ini menjelaskan tentang perintah python yang sangat membantu dalam pengerjaan data analysis seperti % yang digunakan unutuk single line command dan %% untuk multiple line command"
      ]
    },
    {
      "cell_type": "markdown",
      "metadata": {
        "id": "C0DQJf7fUpXY"
      },
      "source": [
        "###Pasting Code Blocks: %paste and %cpaste\n",
        "\n",
        "Perintah ini akan sangat diperlukan jika kita akan melakukakan copy-paste code pada , %paste akan digunakan untuk membantu kita melakukan copy paste tanpa menghiraukan intendasi kode yang telah dilakukan copy paste, namun jika kita melakukan copy paste secara langsung tanpa menggunakan %paste pada notebook maka kode tetap akan berjalan dan jika kita tambahkan perintah command malah hanya akan membuat kode tidak dapat berjalan."
      ]
    },
    {
      "cell_type": "code",
      "metadata": {
        "id": "RESO-a9DTDIr"
      },
      "source": [
        "##we need to make it become shell\n",
        ">>> def donothing(x):\n",
        "...     return x\n"
      ],
      "execution_count": 1,
      "outputs": []
    },
    {
      "cell_type": "code",
      "metadata": {
        "colab": {
          "base_uri": "https://localhost:8080/",
          "height": 130
        },
        "id": "bfXkaaAOWJ4C",
        "outputId": "74688a35-84f2-4d89-d27d-66b72904020b"
      },
      "source": [
        "%paste\n",
        ">>> def donothing(x):\n",
        "...     return x\n",
        "## -- End pasted text --\n",
        "\n",
        "donothing(10)"
      ],
      "execution_count": 2,
      "outputs": [
        {
          "output_type": "error",
          "ename": "SyntaxError",
          "evalue": "ignored",
          "traceback": [
            "\u001b[0;36m  File \u001b[0;32m\"<ipython-input-2-6d9c17890402>\"\u001b[0;36m, line \u001b[0;32m2\u001b[0m\n\u001b[0;31m    >>> def donothing(x):\u001b[0m\n\u001b[0m     ^\u001b[0m\n\u001b[0;31mSyntaxError\u001b[0m\u001b[0;31m:\u001b[0m invalid syntax\n"
          ]
        }
      ]
    },
    {
      "cell_type": "code",
      "metadata": {
        "colab": {
          "base_uri": "https://localhost:8080/",
          "height": 130
        },
        "id": "7rnSeEd6W9Qo",
        "outputId": "cfc2d37c-fedd-4c5a-d520-3124fc23f687"
      },
      "source": [
        "%cpaste\n",
        ">>> def donothing(x):\n",
        "...     return x\n",
        "--"
      ],
      "execution_count": 3,
      "outputs": [
        {
          "output_type": "error",
          "ename": "SyntaxError",
          "evalue": "ignored",
          "traceback": [
            "\u001b[0;36m  File \u001b[0;32m\"<ipython-input-3-1ecd9cfb9538>\"\u001b[0;36m, line \u001b[0;32m2\u001b[0m\n\u001b[0;31m    >>> def donothing(x):\u001b[0m\n\u001b[0m     ^\u001b[0m\n\u001b[0;31mSyntaxError\u001b[0m\u001b[0;31m:\u001b[0m invalid syntax\n"
          ]
        }
      ]
    },
    {
      "cell_type": "markdown",
      "metadata": {
        "id": "B3ALMNdTcOmf"
      },
      "source": [
        "*Comment: %paste tidak tersedia pada magic command colab*"
      ]
    },
    {
      "cell_type": "markdown",
      "metadata": {
        "id": "nBQIs9psXU-w"
      },
      "source": [
        "###Running External Code : %run\n",
        "\n",
        "Perintah ini akan menjalankan source code python dari luar yang interpreter jalankan. Kita contohkan disini kita memiliki kode myscript.py"
      ]
    },
    {
      "cell_type": "code",
      "metadata": {
        "colab": {
          "base_uri": "https://localhost:8080/"
        },
        "id": "11OJlwPKXz1I",
        "outputId": "6cd67b92-2b1b-4b76-8771-d1424c97f95f"
      },
      "source": [
        "##this is myscript.py and we will save it on root\n",
        "%%writefile myscript.py\n",
        "\n",
        "def square(x):\n",
        "  return x ** 2\n",
        "\n",
        "for N in range(1, 4):\n",
        "  print(N, \"squared is\", square(N))\n"
      ],
      "execution_count": 4,
      "outputs": [
        {
          "output_type": "stream",
          "text": [
            "Writing myscript.py\n"
          ],
          "name": "stdout"
        }
      ]
    },
    {
      "cell_type": "code",
      "metadata": {
        "colab": {
          "base_uri": "https://localhost:8080/"
        },
        "id": "evjJGFJFYO5_",
        "outputId": "781123d5-6e3e-4778-f048-9064077858f8"
      },
      "source": [
        "##we will run myscript.py with %run\n",
        "%run myscript.py"
      ],
      "execution_count": 5,
      "outputs": [
        {
          "output_type": "stream",
          "text": [
            "1 squared is 1\n",
            "2 squared is 4\n",
            "3 squared is 9\n"
          ],
          "name": "stdout"
        }
      ]
    },
    {
      "cell_type": "markdown",
      "metadata": {
        "id": "J_3b-1AaZOnQ"
      },
      "source": [
        "###Timing Code Execution: %timeit\n",
        "\n",
        "Penggunaan perintah ini dapat mengeluarkan hasil berupa waktu ekseskusi yang biasanya digunakan untuk membandingkan performa sebuah kode"
      ]
    },
    {
      "cell_type": "code",
      "metadata": {
        "colab": {
          "base_uri": "https://localhost:8080/"
        },
        "id": "JYOedHV3ZqhP",
        "outputId": "4dd8d5bd-6950-4d8a-c9e7-d5aab0199400"
      },
      "source": [
        "##disini %timeit digunakan untuk single line\n",
        "\n",
        "%timeit L = [n ** 2 for n in range(1000)]"
      ],
      "execution_count": 6,
      "outputs": [
        {
          "output_type": "stream",
          "text": [
            "The slowest run took 7.35 times longer than the fastest. This could mean that an intermediate result is being cached.\n",
            "1000 loops, best of 5: 282 µs per loop\n"
          ],
          "name": "stdout"
        }
      ]
    },
    {
      "cell_type": "code",
      "metadata": {
        "colab": {
          "base_uri": "https://localhost:8080/"
        },
        "id": "wSSMtPLWZ1fv",
        "outputId": "db66030b-c8c7-4bb7-c7c9-64898f432ed5"
      },
      "source": [
        "##untuk multiple line maka tinggal menambahkna %\n",
        "%%timeit\n",
        "\n",
        "L = []\n",
        "\n",
        "for n in range(1000):\n",
        "  L.append(n ** 2)"
      ],
      "execution_count": 7,
      "outputs": [
        {
          "output_type": "stream",
          "text": [
            "1000 loops, best of 5: 320 µs per loop\n"
          ],
          "name": "stdout"
        }
      ]
    },
    {
      "cell_type": "markdown",
      "metadata": {
        "id": "upbTtRr5aQ62"
      },
      "source": [
        "Dapat dilihat bahwa list comprehension lebih cepat dibandingkan dengna penggunaan tradisional for"
      ]
    },
    {
      "cell_type": "markdown",
      "metadata": {
        "id": "tXWJPSeyaWP_"
      },
      "source": [
        "###Help on Magic Functions: ?, %magic, and %lsmagic\n",
        "\n",
        "ini merupakan perintah untuk mendapatkan petunjuk tentang magic command yang kita inginkan atau untuk melihat dokumentasi"
      ]
    },
    {
      "cell_type": "code",
      "metadata": {
        "id": "9nRP4Op7aiUY"
      },
      "source": [
        "%timeit?"
      ],
      "execution_count": 8,
      "outputs": []
    },
    {
      "cell_type": "code",
      "metadata": {
        "id": "Gt7FutfAa0vG"
      },
      "source": [
        "%magic"
      ],
      "execution_count": 9,
      "outputs": []
    },
    {
      "cell_type": "code",
      "metadata": {
        "colab": {
          "base_uri": "https://localhost:8080/",
          "height": 156
        },
        "id": "wBWYHuI_a34V",
        "outputId": "6d0443af-90fa-439e-f69c-726b16af63bc"
      },
      "source": [
        "%lsmagic"
      ],
      "execution_count": 10,
      "outputs": [
        {
          "output_type": "execute_result",
          "data": {
            "application/json": {
              "cell": {
                "prun": "ExecutionMagics",
                "file": "Other",
                "!": "OSMagics",
                "capture": "ExecutionMagics",
                "timeit": "ExecutionMagics",
                "script": "ScriptMagics",
                "pypy": "Other",
                "system": "OSMagics",
                "perl": "Other",
                "html": "DisplayMagics",
                "bash": "Other",
                "shell": "Other",
                "HTML": "Other",
                "python": "Other",
                "SVG": "Other",
                "javascript": "DisplayMagics",
                "bigquery": "Other",
                "js": "DisplayMagics",
                "writefile": "OSMagics",
                "ruby": "Other",
                "python3": "Other",
                "python2": "Other",
                "latex": "DisplayMagics",
                "sx": "OSMagics",
                "svg": "DisplayMagics",
                "sh": "Other",
                "time": "ExecutionMagics",
                "debug": "ExecutionMagics"
              },
              "line": {
                "psource": "NamespaceMagics",
                "logstart": "LoggingMagics",
                "popd": "OSMagics",
                "tensorflow_version": "Other",
                "loadpy": "CodeMagics",
                "colors": "BasicMagics",
                "who_ls": "NamespaceMagics",
                "lf": "Other",
                "ll": "Other",
                "pprint": "BasicMagics",
                "lk": "Other",
                "ls": "Other",
                "save": "CodeMagics",
                "tb": "ExecutionMagics",
                "lx": "Other",
                "pylab": "PylabMagics",
                "killbgscripts": "ScriptMagics",
                "quickref": "BasicMagics",
                "magic": "BasicMagics",
                "dhist": "OSMagics",
                "edit": "KernelMagics",
                "logstop": "LoggingMagics",
                "gui": "BasicMagics",
                "prun": "ExecutionMagics",
                "debug": "ExecutionMagics",
                "page": "BasicMagics",
                "logstate": "LoggingMagics",
                "ed": "Other",
                "pushd": "OSMagics",
                "timeit": "ExecutionMagics",
                "set_env": "OSMagics",
                "rehashx": "OSMagics",
                "hist": "Other",
                "qtconsole": "KernelMagics",
                "rm": "Other",
                "dirs": "OSMagics",
                "run": "ExecutionMagics",
                "reset_selective": "NamespaceMagics",
                "pinfo2": "NamespaceMagics",
                "matplotlib": "PylabMagics",
                "unload_ext": "ExtensionMagics",
                "doctest_mode": "BasicMagics",
                "logoff": "LoggingMagics",
                "reload_ext": "ExtensionMagics",
                "pdb": "ExecutionMagics",
                "load": "CodeMagics",
                "lsmagic": "BasicMagics",
                "autosave": "KernelMagics",
                "cd": "OSMagics",
                "pastebin": "CodeMagics",
                "alias_magic": "BasicMagics",
                "cp": "Other",
                "autocall": "AutoMagics",
                "ldir": "Other",
                "bookmark": "OSMagics",
                "connect_info": "KernelMagics",
                "mkdir": "Other",
                "system": "OSMagics",
                "whos": "NamespaceMagics",
                "rmdir": "Other",
                "automagic": "AutoMagics",
                "store": "StoreMagics",
                "more": "KernelMagics",
                "shell": "Other",
                "pdef": "NamespaceMagics",
                "precision": "BasicMagics",
                "pinfo": "NamespaceMagics",
                "pwd": "OSMagics",
                "psearch": "NamespaceMagics",
                "reset": "NamespaceMagics",
                "recall": "HistoryMagics",
                "xdel": "NamespaceMagics",
                "xmode": "BasicMagics",
                "cat": "Other",
                "mv": "Other",
                "rerun": "HistoryMagics",
                "logon": "LoggingMagics",
                "history": "HistoryMagics",
                "pycat": "OSMagics",
                "pip": "Other",
                "unalias": "OSMagics",
                "env": "OSMagics",
                "load_ext": "ExtensionMagics",
                "config": "ConfigMagics",
                "profile": "BasicMagics",
                "pfile": "NamespaceMagics",
                "less": "KernelMagics",
                "who": "NamespaceMagics",
                "notebook": "BasicMagics",
                "man": "KernelMagics",
                "sx": "OSMagics",
                "macro": "ExecutionMagics",
                "clear": "KernelMagics",
                "alias": "OSMagics",
                "time": "ExecutionMagics",
                "sc": "OSMagics",
                "rep": "Other",
                "pdoc": "NamespaceMagics"
              }
            },
            "text/plain": [
              "Available line magics:\n",
              "%alias  %alias_magic  %autocall  %automagic  %autosave  %bookmark  %cat  %cd  %clear  %colors  %config  %connect_info  %cp  %debug  %dhist  %dirs  %doctest_mode  %ed  %edit  %env  %gui  %hist  %history  %killbgscripts  %ldir  %less  %lf  %lk  %ll  %load  %load_ext  %loadpy  %logoff  %logon  %logstart  %logstate  %logstop  %ls  %lsmagic  %lx  %macro  %magic  %man  %matplotlib  %mkdir  %more  %mv  %notebook  %page  %pastebin  %pdb  %pdef  %pdoc  %pfile  %pinfo  %pinfo2  %pip  %popd  %pprint  %precision  %profile  %prun  %psearch  %psource  %pushd  %pwd  %pycat  %pylab  %qtconsole  %quickref  %recall  %rehashx  %reload_ext  %rep  %rerun  %reset  %reset_selective  %rm  %rmdir  %run  %save  %sc  %set_env  %shell  %store  %sx  %system  %tb  %tensorflow_version  %time  %timeit  %unalias  %unload_ext  %who  %who_ls  %whos  %xdel  %xmode\n",
              "\n",
              "Available cell magics:\n",
              "%%!  %%HTML  %%SVG  %%bash  %%bigquery  %%capture  %%debug  %%file  %%html  %%javascript  %%js  %%latex  %%perl  %%prun  %%pypy  %%python  %%python2  %%python3  %%ruby  %%script  %%sh  %%shell  %%svg  %%sx  %%system  %%time  %%timeit  %%writefile\n",
              "\n",
              "Automagic is ON, % prefix IS NOT needed for line magics."
            ]
          },
          "metadata": {
            "tags": []
          },
          "execution_count": 10
        }
      ]
    },
    {
      "cell_type": "markdown",
      "metadata": {
        "id": "2McW376_bfnW"
      },
      "source": [
        "##Input and Output History"
      ]
    },
    {
      "cell_type": "markdown",
      "metadata": {
        "id": "4JK_YqDqcgGW"
      },
      "source": [
        "###IPython's In and Out Objects\n",
        "\n",
        "Menggunakan perintah In dan Out, kita dapat mengakses input maupun output yang ada pada cell sebelumnya"
      ]
    },
    {
      "cell_type": "code",
      "metadata": {
        "id": "9HPx7H_sc3-m"
      },
      "source": [
        "import math"
      ],
      "execution_count": 11,
      "outputs": []
    },
    {
      "cell_type": "code",
      "metadata": {
        "colab": {
          "base_uri": "https://localhost:8080/"
        },
        "id": "tpGWuiK-c5wW",
        "outputId": "5ed1cb05-e601-4856-e048-6f19a07e1b1a"
      },
      "source": [
        "math.sin(2)"
      ],
      "execution_count": 12,
      "outputs": [
        {
          "output_type": "execute_result",
          "data": {
            "text/plain": [
              "0.9092974268256817"
            ]
          },
          "metadata": {
            "tags": []
          },
          "execution_count": 12
        }
      ]
    },
    {
      "cell_type": "code",
      "metadata": {
        "colab": {
          "base_uri": "https://localhost:8080/"
        },
        "id": "RwPL5PakdEjt",
        "outputId": "7a297610-1fb9-4209-ceee-5394f448876b"
      },
      "source": [
        "math.cos(2)"
      ],
      "execution_count": 13,
      "outputs": [
        {
          "output_type": "execute_result",
          "data": {
            "text/plain": [
              "-0.4161468365471424"
            ]
          },
          "metadata": {
            "tags": []
          },
          "execution_count": 13
        }
      ]
    },
    {
      "cell_type": "code",
      "metadata": {
        "colab": {
          "base_uri": "https://localhost:8080/"
        },
        "id": "4ZCehma-dVjO",
        "outputId": "b3273f70-cc82-44a0-bd48-937cdcc516fd"
      },
      "source": [
        "print(In)"
      ],
      "execution_count": 14,
      "outputs": [
        {
          "output_type": "stream",
          "text": [
            "['', '##we need to make it become shell\\ndef donothing(x):\\n    return x', \"get_ipython().magic('paste')\\n>>> def donothing(x):\\n...     return x\\n## -- End pasted text --\\n\\ndonothing(10)\", \"get_ipython().magic('cpaste')\\n>>> def donothing(x):\\n...     return x\\n--\", 'get_ipython().run_cell_magic(\\'writefile\\', \\'myscript.py\\', \\'\\\\ndef square(x):\\\\n  return x ** 2\\\\n\\\\nfor N in range(1, 4):\\\\n  print(N, \"squared is\", square(N))\\')', \"##we will run myscript.py with %run\\nget_ipython().magic('run myscript.py')\", \"##disini %timeit digunakan untuk single line\\n\\nget_ipython().magic('timeit L = [n ** 2 for n in range(1000)]')\", \"get_ipython().run_cell_magic('timeit', '', '\\\\nL = []\\\\n\\\\nfor n in range(1000):\\\\n  L.append(n ** 2)')\", \"get_ipython().magic('pinfo %timeit')\", \"get_ipython().magic('magic')\", \"get_ipython().magic('lsmagic')\", 'import math', 'math.sin(2)', 'math.cos(2)', 'print(In)']\n"
          ],
          "name": "stdout"
        }
      ]
    },
    {
      "cell_type": "code",
      "metadata": {
        "colab": {
          "base_uri": "https://localhost:8080/"
        },
        "id": "TM4-mfxudbXl",
        "outputId": "d069b967-15a5-4e33-fd02-09780d6e0468"
      },
      "source": [
        "Out"
      ],
      "execution_count": 15,
      "outputs": [
        {
          "output_type": "execute_result",
          "data": {
            "text/plain": [
              "{10: Available line magics:\n",
              "%alias  %alias_magic  %autocall  %automagic  %autosave  %bookmark  %cat  %cd  %clear  %colors  %config  %connect_info  %cp  %debug  %dhist  %dirs  %doctest_mode  %ed  %edit  %env  %gui  %hist  %history  %killbgscripts  %ldir  %less  %lf  %lk  %ll  %load  %load_ext  %loadpy  %logoff  %logon  %logstart  %logstate  %logstop  %ls  %lsmagic  %lx  %macro  %magic  %man  %matplotlib  %mkdir  %more  %mv  %notebook  %page  %pastebin  %pdb  %pdef  %pdoc  %pfile  %pinfo  %pinfo2  %pip  %popd  %pprint  %precision  %profile  %prun  %psearch  %psource  %pushd  %pwd  %pycat  %pylab  %qtconsole  %quickref  %recall  %rehashx  %reload_ext  %rep  %rerun  %reset  %reset_selective  %rm  %rmdir  %run  %save  %sc  %set_env  %shell  %store  %sx  %system  %tb  %tensorflow_version  %time  %timeit  %unalias  %unload_ext  %who  %who_ls  %whos  %xdel  %xmode\n",
              "\n",
              "Available cell magics:\n",
              "%%!  %%HTML  %%SVG  %%bash  %%bigquery  %%capture  %%debug  %%file  %%html  %%javascript  %%js  %%latex  %%perl  %%prun  %%pypy  %%python  %%python2  %%python3  %%ruby  %%script  %%sh  %%shell  %%svg  %%sx  %%system  %%time  %%timeit  %%writefile\n",
              "\n",
              "Automagic is ON, % prefix IS NOT needed for line magics.,\n",
              " 12: 0.9092974268256817,\n",
              " 13: -0.4161468365471424}"
            ]
          },
          "metadata": {
            "tags": []
          },
          "execution_count": 15
        }
      ]
    },
    {
      "cell_type": "markdown",
      "metadata": {
        "id": "lkg3mT3Wdja3"
      },
      "source": [
        "Input di deskripsikan menggunakan array dan output dideskripsikan menggunakan list"
      ]
    },
    {
      "cell_type": "code",
      "metadata": {
        "colab": {
          "base_uri": "https://localhost:8080/"
        },
        "id": "C3dn20POdfXn",
        "outputId": "86f1f657-9727-4780-db6c-82b5743f81d3"
      },
      "source": [
        "print(In[12])"
      ],
      "execution_count": 16,
      "outputs": [
        {
          "output_type": "stream",
          "text": [
            "math.sin(2)\n"
          ],
          "name": "stdout"
        }
      ]
    },
    {
      "cell_type": "code",
      "metadata": {
        "colab": {
          "base_uri": "https://localhost:8080/"
        },
        "id": "ySoE566ZeFZG",
        "outputId": "6402fe30-507b-4321-84e4-247edb666e3d"
      },
      "source": [
        "print(Out[13])"
      ],
      "execution_count": 17,
      "outputs": [
        {
          "output_type": "stream",
          "text": [
            "-0.4161468365471424\n"
          ],
          "name": "stdout"
        }
      ]
    },
    {
      "cell_type": "code",
      "metadata": {
        "colab": {
          "base_uri": "https://localhost:8080/"
        },
        "id": "OXMXaH8FeP0W",
        "outputId": "40d07aee-0c46-4658-bd63-24454046c104"
      },
      "source": [
        "Out[12] ** 2 + Out[13] ** 2"
      ],
      "execution_count": 18,
      "outputs": [
        {
          "output_type": "execute_result",
          "data": {
            "text/plain": [
              "1.0"
            ]
          },
          "metadata": {
            "tags": []
          },
          "execution_count": 18
        }
      ]
    },
    {
      "cell_type": "markdown",
      "metadata": {
        "id": "UoOcLAVefaYd"
      },
      "source": [
        "###Underscore Shortcuts and Previous Outputs\n",
        "\n",
        "Perintah yang digunakan pada shell untuk mengakases output sebelumnya ialah _, namun pada IPython kita dapat menggunaakn __ untuk mengakses output dua terakhir. Juga akan lebih mudah jika menggunakan _X dimana X merupakan nomor output"
      ]
    },
    {
      "cell_type": "code",
      "metadata": {
        "colab": {
          "base_uri": "https://localhost:8080/"
        },
        "id": "_Jjh-3NFfXou",
        "outputId": "d0221071-87b9-4e04-bf81-f41730cb90e4"
      },
      "source": [
        "print(__)"
      ],
      "execution_count": 19,
      "outputs": [
        {
          "output_type": "stream",
          "text": [
            "-0.4161468365471424\n"
          ],
          "name": "stdout"
        }
      ]
    },
    {
      "cell_type": "code",
      "metadata": {
        "colab": {
          "base_uri": "https://localhost:8080/"
        },
        "id": "oTG9znxEf5bF",
        "outputId": "af65eeb9-3d74-4a06-c7e2-34ef1840eb14"
      },
      "source": [
        "print(___)"
      ],
      "execution_count": 20,
      "outputs": [
        {
          "output_type": "stream",
          "text": [
            "0.9092974268256817\n"
          ],
          "name": "stdout"
        }
      ]
    },
    {
      "cell_type": "code",
      "metadata": {
        "colab": {
          "base_uri": "https://localhost:8080/"
        },
        "id": "DM-2MpW-f8T9",
        "outputId": "b9d2d2d9-b9f3-4d34-9701-f3dd131dfa9f"
      },
      "source": [
        "Out[13]"
      ],
      "execution_count": 21,
      "outputs": [
        {
          "output_type": "execute_result",
          "data": {
            "text/plain": [
              "-0.4161468365471424"
            ]
          },
          "metadata": {
            "tags": []
          },
          "execution_count": 21
        }
      ]
    },
    {
      "cell_type": "code",
      "metadata": {
        "colab": {
          "base_uri": "https://localhost:8080/"
        },
        "id": "O9kwa2MCgEA1",
        "outputId": "e37fe98f-de70-4c23-b853-04a9cb24a963"
      },
      "source": [
        "_12"
      ],
      "execution_count": 22,
      "outputs": [
        {
          "output_type": "execute_result",
          "data": {
            "text/plain": [
              "0.9092974268256817"
            ]
          },
          "metadata": {
            "tags": []
          },
          "execution_count": 22
        }
      ]
    },
    {
      "cell_type": "markdown",
      "metadata": {
        "id": "vrxA-KmSgHME"
      },
      "source": [
        "###Suppressing Output\n",
        "\n",
        "Menambahkan semicolon pada akhir code akan menghilangkan output yang dihasilkan oleh code tersebut"
      ]
    },
    {
      "cell_type": "code",
      "metadata": {
        "id": "g-ha0yLSgb6X"
      },
      "source": [
        "math.sin(2) + math.cos(2);"
      ],
      "execution_count": 23,
      "outputs": []
    },
    {
      "cell_type": "code",
      "metadata": {
        "colab": {
          "base_uri": "https://localhost:8080/"
        },
        "id": "44CxCmSbgyFO",
        "outputId": "6906b84b-7ee0-4446-d4a3-1cc68c40002d"
      },
      "source": [
        "28 in Out"
      ],
      "execution_count": 24,
      "outputs": [
        {
          "output_type": "execute_result",
          "data": {
            "text/plain": [
              "False"
            ]
          },
          "metadata": {
            "tags": []
          },
          "execution_count": 24
        }
      ]
    },
    {
      "cell_type": "markdown",
      "metadata": {
        "id": "EqWzrnSPg520"
      },
      "source": [
        "###Related Magic Commands\n",
        "\n",
        "Kita dapat mengakses input sebelumnya dengan menggunakan magic command %history"
      ]
    },
    {
      "cell_type": "code",
      "metadata": {
        "colab": {
          "base_uri": "https://localhost:8080/"
        },
        "id": "R762Fu4ihF52",
        "outputId": "3bf1b90f-26e8-41f9-edae-a152c1fdef0e"
      },
      "source": [
        "%history -n 1-4\n"
      ],
      "execution_count": 25,
      "outputs": [
        {
          "output_type": "stream",
          "text": [
            "   1:\n",
            "##we need to make it become shell\n",
            ">>> def donothing(x):\n",
            "...     return x\n",
            "   2:\n",
            "%paste\n",
            ">>> def donothing(x):\n",
            "...     return x\n",
            "## -- End pasted text --\n",
            "\n",
            "donothing(10)\n",
            "   3:\n",
            "%cpaste\n",
            ">>> def donothing(x):\n",
            "...     return x\n",
            "--\n",
            "   4:\n",
            "%%writefile myscript.py\n",
            "\n",
            "def square(x):\n",
            "  return x ** 2\n",
            "\n",
            "for N in range(1, 4):\n",
            "  print(N, \"squared is\", square(N))\n"
          ],
          "name": "stdout"
        }
      ]
    },
    {
      "cell_type": "markdown",
      "metadata": {
        "id": "R1KyPCPcFxZM"
      },
      "source": [
        "##IPython and Shell Commands"
      ]
    },
    {
      "cell_type": "markdown",
      "metadata": {
        "id": "Vq2rxrHTF4Nz"
      },
      "source": [
        "###Shell Command in Python\n",
        "Perintah shell bisa dijalankan dengan menambahkan ! diawal perintah "
      ]
    },
    {
      "cell_type": "code",
      "metadata": {
        "colab": {
          "base_uri": "https://localhost:8080/"
        },
        "id": "OH9HuXifGQab",
        "outputId": "8d5c43b5-1617-4eca-fbfa-521246e6dfe5"
      },
      "source": [
        "!ls"
      ],
      "execution_count": 26,
      "outputs": [
        {
          "output_type": "stream",
          "text": [
            "myscript.py  sample_data\n"
          ],
          "name": "stdout"
        }
      ]
    },
    {
      "cell_type": "code",
      "metadata": {
        "colab": {
          "base_uri": "https://localhost:8080/"
        },
        "id": "uEAhvsQGGTp0",
        "outputId": "0f19f6f1-d96e-4de9-90a2-b662de21b938"
      },
      "source": [
        "!pwd"
      ],
      "execution_count": 27,
      "outputs": [
        {
          "output_type": "stream",
          "text": [
            "/content\n"
          ],
          "name": "stdout"
        }
      ]
    },
    {
      "cell_type": "code",
      "metadata": {
        "colab": {
          "base_uri": "https://localhost:8080/"
        },
        "id": "W_2QJandGaIj",
        "outputId": "eab3ef3b-7f9d-4a6a-bb1c-864ba5a4db8c"
      },
      "source": [
        "!echo \"printing from shell\""
      ],
      "execution_count": 28,
      "outputs": [
        {
          "output_type": "stream",
          "text": [
            "printing from shell\n"
          ],
          "name": "stdout"
        }
      ]
    },
    {
      "cell_type": "markdown",
      "metadata": {
        "id": "sa0LeLHdGiZL"
      },
      "source": [
        "###Passing Values to and from the Shell\n",
        "kita dapat menggunakan nilai yang kita dapatkan pada shell ke IPhyton begitu juga sebaliknya"
      ]
    },
    {
      "cell_type": "code",
      "metadata": {
        "id": "bp9mxazgGqUj"
      },
      "source": [
        "contents = !ls"
      ],
      "execution_count": 29,
      "outputs": []
    },
    {
      "cell_type": "code",
      "metadata": {
        "colab": {
          "base_uri": "https://localhost:8080/"
        },
        "id": "bls4OpJhGuL7",
        "outputId": "43b7dd39-f89a-4503-c552-ccf405686ee7"
      },
      "source": [
        "print(contents)"
      ],
      "execution_count": 30,
      "outputs": [
        {
          "output_type": "stream",
          "text": [
            "['myscript.py  sample_data']\n"
          ],
          "name": "stdout"
        }
      ]
    },
    {
      "cell_type": "code",
      "metadata": {
        "id": "UG1hs-c5Gxpz"
      },
      "source": [
        "directory = !pwd"
      ],
      "execution_count": 31,
      "outputs": []
    },
    {
      "cell_type": "code",
      "metadata": {
        "colab": {
          "base_uri": "https://localhost:8080/"
        },
        "id": "pp3eDbW2G0l1",
        "outputId": "8408c2ef-2c55-40f7-9914-d49a95c1ac65"
      },
      "source": [
        "print(directory)"
      ],
      "execution_count": 32,
      "outputs": [
        {
          "output_type": "stream",
          "text": [
            "['/content']\n"
          ],
          "name": "stdout"
        }
      ]
    },
    {
      "cell_type": "code",
      "metadata": {
        "colab": {
          "base_uri": "https://localhost:8080/"
        },
        "id": "uuRsZ0A-G7Da",
        "outputId": "d34687f0-0e37-406c-ac81-002507deb4d7"
      },
      "source": [
        "type(directory)"
      ],
      "execution_count": 33,
      "outputs": [
        {
          "output_type": "execute_result",
          "data": {
            "text/plain": [
              "IPython.utils.text.SList"
            ]
          },
          "metadata": {
            "tags": []
          },
          "execution_count": 33
        }
      ]
    },
    {
      "cell_type": "code",
      "metadata": {
        "id": "99zo_RHjHJW8"
      },
      "source": [
        "message = \"hello python\""
      ],
      "execution_count": 34,
      "outputs": []
    },
    {
      "cell_type": "code",
      "metadata": {
        "colab": {
          "base_uri": "https://localhost:8080/"
        },
        "id": "mnJQy-MkHNTb",
        "outputId": "2df11141-37c7-4ae0-914e-ed8a3cdf8299"
      },
      "source": [
        "!echo {message}"
      ],
      "execution_count": 35,
      "outputs": [
        {
          "output_type": "stream",
          "text": [
            "hello python\n"
          ],
          "name": "stdout"
        }
      ]
    },
    {
      "cell_type": "markdown",
      "metadata": {
        "id": "trCYNTOaHQSO"
      },
      "source": [
        "###Shell-related Magic Command\n",
        "Terdapat banyak magic command yang dapat kita gunakan "
      ]
    },
    {
      "cell_type": "code",
      "metadata": {
        "colab": {
          "base_uri": "https://localhost:8080/"
        },
        "id": "As0NhSI5HYMa",
        "outputId": "f2182eaa-1272-41ff-93b4-a4d90e327cf5"
      },
      "source": [
        "!pwd"
      ],
      "execution_count": 36,
      "outputs": [
        {
          "output_type": "stream",
          "text": [
            "/content\n"
          ],
          "name": "stdout"
        }
      ]
    },
    {
      "cell_type": "code",
      "metadata": {
        "id": "cqTRoTt-Hd-S"
      },
      "source": [
        "!cd .."
      ],
      "execution_count": 37,
      "outputs": []
    },
    {
      "cell_type": "code",
      "metadata": {
        "colab": {
          "base_uri": "https://localhost:8080/"
        },
        "id": "_NP38SuzHfmb",
        "outputId": "72f0ec5c-a750-4aef-984c-7998142fec9e"
      },
      "source": [
        "!pwd"
      ],
      "execution_count": 38,
      "outputs": [
        {
          "output_type": "stream",
          "text": [
            "/content\n"
          ],
          "name": "stdout"
        }
      ]
    },
    {
      "cell_type": "code",
      "metadata": {
        "colab": {
          "base_uri": "https://localhost:8080/"
        },
        "id": "zgMr3_QEHjp7",
        "outputId": "6d0a00ba-2810-4a3d-d9db-5da617eb6e70"
      },
      "source": [
        "%cd .."
      ],
      "execution_count": 39,
      "outputs": [
        {
          "output_type": "stream",
          "text": [
            "/\n"
          ],
          "name": "stdout"
        }
      ]
    },
    {
      "cell_type": "code",
      "metadata": {
        "colab": {
          "base_uri": "https://localhost:8080/"
        },
        "id": "7LcZhw27Hxoi",
        "outputId": "59655ac7-0cc5-4e13-a477-e70b6133ed58"
      },
      "source": [
        "cd content"
      ],
      "execution_count": 40,
      "outputs": [
        {
          "output_type": "stream",
          "text": [
            "/content\n"
          ],
          "name": "stdout"
        }
      ]
    },
    {
      "cell_type": "code",
      "metadata": {
        "id": "mi7svScIH4Ei"
      },
      "source": [
        "mkdir tmp"
      ],
      "execution_count": 41,
      "outputs": []
    },
    {
      "cell_type": "code",
      "metadata": {
        "colab": {
          "base_uri": "https://localhost:8080/"
        },
        "id": "q3etiuskH6oK",
        "outputId": "4dced02d-46d0-4165-9de8-1603c751f2c0"
      },
      "source": [
        "ls"
      ],
      "execution_count": 42,
      "outputs": [
        {
          "output_type": "stream",
          "text": [
            "myscript.py  \u001b[0m\u001b[01;34msample_data\u001b[0m/  \u001b[01;34mtmp\u001b[0m/\n"
          ],
          "name": "stdout"
        }
      ]
    },
    {
      "cell_type": "code",
      "metadata": {
        "id": "vZUFoU3gH7ss"
      },
      "source": [
        "cp myscript.py tmp/"
      ],
      "execution_count": 43,
      "outputs": []
    },
    {
      "cell_type": "code",
      "metadata": {
        "colab": {
          "base_uri": "https://localhost:8080/"
        },
        "id": "rdAiLmdNH9xs",
        "outputId": "c20cfee2-306f-435c-dd91-1176998ce4fb"
      },
      "source": [
        "ls tmp"
      ],
      "execution_count": 44,
      "outputs": [
        {
          "output_type": "stream",
          "text": [
            "myscript.py\n"
          ],
          "name": "stdout"
        }
      ]
    },
    {
      "cell_type": "code",
      "metadata": {
        "id": "cBAAORB2IKQ7"
      },
      "source": [
        "rm -r tmp"
      ],
      "execution_count": 45,
      "outputs": []
    }
  ]
}